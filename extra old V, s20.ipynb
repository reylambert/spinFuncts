{
 "cells": [
  {
   "cell_type": "code",
   "execution_count": null,
   "metadata": {},
   "outputs": [],
   "source": [
    "# play with new stuff, coupling, s2\n",
    "# less time consuming runs (less evolved systems, only around nontherm. parameters)\n",
    "# try to break the nonthermalizing states"
   ]
  },
  {
   "cell_type": "code",
   "execution_count": null,
   "metadata": {},
   "outputs": [],
   "source": [
    "from quspin.operators import hamiltonian\n",
    "from quspin.basis import spin_basis_general, tensor_basis\n",
    "from quspin.tools.measurements import obs_vs_time\n",
    "import numpy as np\n",
    "from matplotlib import pyplot as plt\n",
    "from scipy import optimize\n",
    "\n",
    "import spinFuncts as sf"
   ]
  },
  {
   "cell_type": "code",
   "execution_count": null,
   "metadata": {},
   "outputs": [],
   "source": [
    "E = 1\n",
    "\n",
    "N  = 1        #system size\n",
    "V  = 5        #coupling strength\n",
    "L  = [10, 0]   #lambda prefix, Jzz_i\n",
    "\n",
    "S1 = '100'    #spin of 1\n",
    "S2 = '1/2'    #spin of 2\n",
    "\n",
    "s1 = 100\n",
    "s2 = 1/2\n",
    "\n",
    "z2   = 0\n",
    "phi2 = 0"
   ]
  },
  {
   "cell_type": "code",
   "execution_count": null,
   "metadata": {},
   "outputs": [],
   "source": [
    "tf = s1\n",
    "\n",
    "phis = [0, np.pi/8, np.pi/4, 3*np.pi/8, np.pi/2, 5*np.pi/8, 3*np.pi/4, 7*np.pi/8, np.pi]\n",
    "zs   = sf.getZs_Ec(phis, L[0], E)\n",
    "times = np.linspace(0.0, 50, 1000)\n",
    "\n",
    "print(zs)"
   ]
  },
  {
   "cell_type": "code",
   "execution_count": null,
   "metadata": {},
   "outputs": [],
   "source": [
    "z_t   = []\n",
    "phi_t = []\n",
    "\n",
    "Jx_1 = []\n",
    "Jy_1 = []\n",
    "Jz_1 = []\n",
    "\n",
    "for i in range(len(phis)):\n",
    "    zi, phii, J1_i, J2_i = sf.evolveSys_all(zs[i], phis[i], 0, 0, times, S1, s1, S2, s2, L, V, N)\n",
    "    z_t.append(zi[0])\n",
    "    phi_t.append(phii[0])\n",
    "    Jx_1.append(J1_i[0])\n",
    "    Jy_1.append(J1_i[1])\n",
    "    Jz_1.append(J1_i[2])"
   ]
  },
  {
   "cell_type": "code",
   "execution_count": null,
   "metadata": {},
   "outputs": [],
   "source": [
    "for i in range(len(phis)):\n",
    "    plt.plot(phi_t[i], z_t[i], label=i)\n",
    "\n",
    "plt.ylabel('z')\n",
    "plt.xlabel('phi')\n",
    "plt.legend()\n",
    "print(\"E =\", E, \", L =\", L)"
   ]
  },
  {
   "cell_type": "code",
   "execution_count": null,
   "metadata": {},
   "outputs": [],
   "source": [
    "for i in range(len(phis)):\n",
    "    plt.plot(times, z_t[i], label=i)\n",
    "\n",
    "plt.ylabel('z')\n",
    "plt.xlabel('time')\n",
    "plt.legend()\n",
    "print(\"E =\", E, \", L =\", L)"
   ]
  },
  {
   "cell_type": "code",
   "execution_count": null,
   "metadata": {},
   "outputs": [],
   "source": [
    "for i in range(len(phis)):\n",
    "    plt.plot(times, Jz_1[i], label=i)\n",
    "\n",
    "plt.ylabel('Jz_1')\n",
    "plt.xlabel('time')\n",
    "plt.legend()\n",
    "print(\"E =\", E, \", L =\", L)"
   ]
  },
  {
   "cell_type": "code",
   "execution_count": null,
   "metadata": {},
   "outputs": [],
   "source": [
    "for i in range(len(phis)):\n",
    "    plt.plot(times, Jx_1[i], label=i)\n",
    "\n",
    "plt.ylabel('Jx_1')\n",
    "plt.xlabel('time')\n",
    "plt.legend()\n",
    "print(\"E =\", E, \", L =\", L)"
   ]
  },
  {
   "cell_type": "code",
   "execution_count": null,
   "metadata": {},
   "outputs": [],
   "source": []
  },
  {
   "cell_type": "code",
   "execution_count": null,
   "metadata": {},
   "outputs": [],
   "source": []
  }
 ],
 "metadata": {
  "kernelspec": {
   "display_name": "Python 3",
   "language": "python",
   "name": "python3"
  },
  "language_info": {
   "codemirror_mode": {
    "name": "ipython",
    "version": 3
   },
   "file_extension": ".py",
   "mimetype": "text/x-python",
   "name": "python",
   "nbconvert_exporter": "python",
   "pygments_lexer": "ipython3",
   "version": "3.6.12"
  }
 },
 "nbformat": 4,
 "nbformat_minor": 4
}
