{
 "cells": [
  {
   "cell_type": "code",
   "execution_count": 1,
   "metadata": {},
   "outputs": [],
   "source": [
    "# goal: figure out why <H> isn't returning the constant E that's chosen\n",
    "# set E=const, get zs and phis, make sure they give right energy, exptval of H, why not equal to E??\n",
    "\n",
    "# getZs_Ec is fine, <H1> is fine for all the z/phi pairs\n",
    "# check: <H1> for different E vals, Jz_1(t) for different z/phi (original code)\n",
    "# check if Ji_1(t)s convert to same/right z(t)"
   ]
  },
  {
   "cell_type": "code",
   "execution_count": 1,
   "metadata": {},
   "outputs": [],
   "source": [
    "from quspin.operators import hamiltonian\n",
    "from quspin.basis import spin_basis_general, tensor_basis\n",
    "from quspin.tools.measurements import obs_vs_time\n",
    "import numpy as np\n",
    "from matplotlib import pyplot as plt\n",
    "from scipy import optimize\n",
    "\n",
    "import spinFuncts as sf"
   ]
  },
  {
   "cell_type": "code",
   "execution_count": 18,
   "metadata": {},
   "outputs": [],
   "source": [
    "N  = 1        #system size\n",
    "V  = 0        #coupling strength\n",
    "L  = [10, 0]   #lambda prefix, Jzz_i\n",
    "\n",
    "S1 = '100'    #spin of 1\n",
    "S2 = '1/2'    #spin of 2\n",
    "\n",
    "s1 = 100\n",
    "s2 = 1/2\n",
    "\n",
    "E=.8"
   ]
  },
  {
   "cell_type": "code",
   "execution_count": 20,
   "metadata": {},
   "outputs": [
    {
     "name": "stdout",
     "output_type": "stream",
     "text": [
      "[0.569553236445743, 0.5533500438732551, 0.5033611662733157, 0.415772358865459, 0.2831552037261775, 0.2515592380896736]\n"
     ]
    }
   ],
   "source": [
    "times = np.linspace(0.0, 200.0, 1000)\n",
    "phis = [0, .5, 1, 1.5, 2, 2.094]\n",
    "#phis = [0, np.pi/8, np.pi/4, 3*np.pi/8, np.pi/2, 5*np.pi/8, 3*np.pi/4, 7*np.pi/8, np.pi]\n",
    "zs   = sf.getZs_Ec(phis, L[0], E)\n",
    "print(zs)"
   ]
  },
  {
   "cell_type": "code",
   "execution_count": 21,
   "metadata": {
    "scrolled": true
   },
   "outputs": [
    {
     "name": "stdout",
     "output_type": "stream",
     "text": [
      "Hermiticity check passed!\n",
      "Hermiticity check passed!\n",
      "Hermiticity check passed!\n",
      "Hermiticity check passed!\n",
      "Hermiticity check passed!\n",
      "Hermiticity check passed!\n",
      "Hermiticity check passed!\n",
      "Hermiticity check passed!\n",
      "Hermiticity check passed!\n",
      "Hermiticity check passed!\n",
      "Hermiticity check passed!\n",
      "Hermiticity check passed!\n"
     ]
    }
   ],
   "source": [
    "h1, h2 = sf.takeZphi (zs[0], phis[0], 0, 0)\n",
    "J1, J2, zz = sf.getJs(N, S1, S2, h1, h2)\n",
    "H1 = sf.H_ini(h1, h2, J1, J2)\n",
    "vals, vects = H1.eigh()\n",
    "\n",
    "phi1 = 0\n",
    "z1   = 0\n",
    "phi2 = 0\n",
    "z2   = 0\n",
    "\n",
    "h1, h2 = sf.takeZphi (z1, phi1, z2, phi2)\n",
    "J1, J2, Jzz = sf.getJs(N, S1, S2, h1, h2)\n",
    "\n",
    "H2 = sf.H_dyn(h1, h2, L, V, J1, J2, Jzz, s1, s2)\n",
    "\n",
    "v_t = H2.evolve(vects.T[0], t0=0, times=times)"
   ]
  },
  {
   "cell_type": "code",
   "execution_count": 22,
   "metadata": {},
   "outputs": [
    {
     "name": "stdout",
     "output_type": "stream",
     "text": [
      "0.5533500438732551 0.5\n",
      "[0.7309813552733805, 0.39933693441523616, 0.5533500438732551] [1.0, 0.0, 0]\n",
      "([0.5533500438732551, 0.0], [0.5, 0.0])\n",
      "Hermiticity check passed!\n",
      "Hermiticity check passed!\n",
      "Hermiticity check passed!\n",
      "Hermiticity check passed!\n",
      "Hermiticity check passed!\n",
      "Hermiticity check passed!\n",
      "[1.0, 0.0, 0] [1.0, 0.0, 0]\n"
     ]
    }
   ],
   "source": [
    "print(zs[1], phis[1])\n",
    "\n",
    "h1, h2 = sf.takeZphi(zs[1], phis[1], 0, 0)\n",
    "\n",
    "print(h1,h2)\n",
    "print(sf.makeZphi_h (h1, h2))\n",
    "# correct z/phi up to this point\n",
    "\n",
    "J1, J2, zz = sf.getJs(N, S1, S2, h1, h2)\n",
    "H1 = sf.H_ini(h1, h2, J1, J2)\n",
    "vals, vects = H1.eigh()\n",
    "    \n",
    "phi1 = 0\n",
    "z1   = 0\n",
    "phi2 = 0\n",
    "z2   = 0\n",
    "\n",
    "h1, h2 = sf.takeZphi (z1, phi1, z2, phi2)\n",
    "\n",
    "print(h1,h2)"
   ]
  },
  {
   "cell_type": "code",
   "execution_count": 23,
   "metadata": {},
   "outputs": [
    {
     "name": "stdout",
     "output_type": "stream",
     "text": [
      "Hermiticity check passed!\n",
      "Hermiticity check passed!\n",
      "Hermiticity check passed!\n",
      "Hermiticity check passed!\n",
      "Hermiticity check passed!\n",
      "Hermiticity check passed!\n",
      "Hermiticity check passed!\n",
      "Hermiticity check passed!\n",
      "Hermiticity check passed!\n",
      "Hermiticity check passed!\n",
      "Hermiticity check passed!\n",
      "Hermiticity check passed!\n",
      "dict_keys(['Jx_1', 'Jy_1', 'Jz_1', 'Jx_2', 'Jy_2', 'Jz_2', 'psi_t'])\n",
      "Hermiticity check passed!\n",
      "Hermiticity check passed!\n",
      "Hermiticity check passed!\n",
      "Hermiticity check passed!\n",
      "Hermiticity check passed!\n",
      "Hermiticity check passed!\n"
     ]
    },
    {
     "name": "stderr",
     "output_type": "stream",
     "text": [
      "C:\\Users\\Rey\\AppData\\Roaming\\Python\\Python36\\site-packages\\numpy\\core\\_asarray.py:83: ComplexWarning: Casting complex values to real discards the imaginary part\n",
      "  return array(a, dtype, copy=False, order=order)\n",
      "C:\\Users\\Rey\\Desktop\\code\\spinFuncts.py:49: UserWarning: Test for symmetries not implemented for <class 'quspin.basis.tensor.tensor_basis'>, to turn off this warning set check_symm=False in hamiltonian\n",
      "  H1 = hamiltonian(static1, [], dtype=np.complex128, basis=basis) #to make operators for 1\n",
      "C:\\Users\\Rey\\Desktop\\code\\spinFuncts.py:49: UserWarning: Test for particle conservation not implemented for <class 'quspin.basis.tensor.tensor_basis'>, to turn off this warning set check_pcon=False in hamiltonian\n",
      "  H1 = hamiltonian(static1, [], dtype=np.complex128, basis=basis) #to make operators for 1\n",
      "C:\\Users\\Rey\\Desktop\\code\\spinFuncts.py:50: UserWarning: Test for symmetries not implemented for <class 'quspin.basis.tensor.tensor_basis'>, to turn off this warning set check_symm=False in hamiltonian\n",
      "  H2 = hamiltonian(static2, [], dtype=np.complex128, basis=basis) #to make operators for 2\n",
      "C:\\Users\\Rey\\Desktop\\code\\spinFuncts.py:50: UserWarning: Test for particle conservation not implemented for <class 'quspin.basis.tensor.tensor_basis'>, to turn off this warning set check_pcon=False in hamiltonian\n",
      "  H2 = hamiltonian(static2, [], dtype=np.complex128, basis=basis) #to make operators for 2\n"
     ]
    },
    {
     "name": "stdout",
     "output_type": "stream",
     "text": [
      "Hermiticity check passed!\n",
      "Hermiticity check passed!\n",
      "Hermiticity check passed!\n",
      "Hermiticity check passed!\n",
      "Hermiticity check passed!\n",
      "Hermiticity check passed!\n",
      "dict_keys(['Jx_1', 'Jy_1', 'Jz_1', 'Jx_2', 'Jy_2', 'Jz_2', 'psi_t'])\n",
      "Hermiticity check passed!\n",
      "Hermiticity check passed!\n",
      "Hermiticity check passed!\n",
      "Hermiticity check passed!\n",
      "Hermiticity check passed!\n",
      "Hermiticity check passed!\n"
     ]
    },
    {
     "name": "stderr",
     "output_type": "stream",
     "text": [
      "C:\\Users\\Rey\\AppData\\Roaming\\Python\\Python36\\site-packages\\numpy\\core\\_asarray.py:83: ComplexWarning: Casting complex values to real discards the imaginary part\n",
      "  return array(a, dtype, copy=False, order=order)\n",
      "C:\\Users\\Rey\\Desktop\\code\\spinFuncts.py:49: UserWarning: Test for symmetries not implemented for <class 'quspin.basis.tensor.tensor_basis'>, to turn off this warning set check_symm=False in hamiltonian\n",
      "  H1 = hamiltonian(static1, [], dtype=np.complex128, basis=basis) #to make operators for 1\n",
      "C:\\Users\\Rey\\Desktop\\code\\spinFuncts.py:49: UserWarning: Test for particle conservation not implemented for <class 'quspin.basis.tensor.tensor_basis'>, to turn off this warning set check_pcon=False in hamiltonian\n",
      "  H1 = hamiltonian(static1, [], dtype=np.complex128, basis=basis) #to make operators for 1\n",
      "C:\\Users\\Rey\\Desktop\\code\\spinFuncts.py:50: UserWarning: Test for symmetries not implemented for <class 'quspin.basis.tensor.tensor_basis'>, to turn off this warning set check_symm=False in hamiltonian\n",
      "  H2 = hamiltonian(static2, [], dtype=np.complex128, basis=basis) #to make operators for 2\n",
      "C:\\Users\\Rey\\Desktop\\code\\spinFuncts.py:50: UserWarning: Test for particle conservation not implemented for <class 'quspin.basis.tensor.tensor_basis'>, to turn off this warning set check_pcon=False in hamiltonian\n",
      "  H2 = hamiltonian(static2, [], dtype=np.complex128, basis=basis) #to make operators for 2\n"
     ]
    },
    {
     "name": "stdout",
     "output_type": "stream",
     "text": [
      "Hermiticity check passed!\n",
      "Hermiticity check passed!\n",
      "Hermiticity check passed!\n",
      "Hermiticity check passed!\n",
      "Hermiticity check passed!\n",
      "Hermiticity check passed!\n",
      "dict_keys(['Jx_1', 'Jy_1', 'Jz_1', 'Jx_2', 'Jy_2', 'Jz_2', 'psi_t'])\n",
      "Hermiticity check passed!\n",
      "Hermiticity check passed!\n",
      "Hermiticity check passed!\n",
      "Hermiticity check passed!\n",
      "Hermiticity check passed!\n",
      "Hermiticity check passed!\n"
     ]
    },
    {
     "name": "stderr",
     "output_type": "stream",
     "text": [
      "C:\\Users\\Rey\\AppData\\Roaming\\Python\\Python36\\site-packages\\numpy\\core\\_asarray.py:83: ComplexWarning: Casting complex values to real discards the imaginary part\n",
      "  return array(a, dtype, copy=False, order=order)\n",
      "C:\\Users\\Rey\\Desktop\\code\\spinFuncts.py:49: UserWarning: Test for symmetries not implemented for <class 'quspin.basis.tensor.tensor_basis'>, to turn off this warning set check_symm=False in hamiltonian\n",
      "  H1 = hamiltonian(static1, [], dtype=np.complex128, basis=basis) #to make operators for 1\n",
      "C:\\Users\\Rey\\Desktop\\code\\spinFuncts.py:49: UserWarning: Test for particle conservation not implemented for <class 'quspin.basis.tensor.tensor_basis'>, to turn off this warning set check_pcon=False in hamiltonian\n",
      "  H1 = hamiltonian(static1, [], dtype=np.complex128, basis=basis) #to make operators for 1\n",
      "C:\\Users\\Rey\\Desktop\\code\\spinFuncts.py:50: UserWarning: Test for symmetries not implemented for <class 'quspin.basis.tensor.tensor_basis'>, to turn off this warning set check_symm=False in hamiltonian\n",
      "  H2 = hamiltonian(static2, [], dtype=np.complex128, basis=basis) #to make operators for 2\n",
      "C:\\Users\\Rey\\Desktop\\code\\spinFuncts.py:50: UserWarning: Test for particle conservation not implemented for <class 'quspin.basis.tensor.tensor_basis'>, to turn off this warning set check_pcon=False in hamiltonian\n",
      "  H2 = hamiltonian(static2, [], dtype=np.complex128, basis=basis) #to make operators for 2\n"
     ]
    },
    {
     "name": "stdout",
     "output_type": "stream",
     "text": [
      "Hermiticity check passed!\n",
      "Hermiticity check passed!\n",
      "Hermiticity check passed!\n",
      "Hermiticity check passed!\n",
      "Hermiticity check passed!\n",
      "Hermiticity check passed!\n",
      "dict_keys(['Jx_1', 'Jy_1', 'Jz_1', 'Jx_2', 'Jy_2', 'Jz_2', 'psi_t'])\n"
     ]
    },
    {
     "name": "stderr",
     "output_type": "stream",
     "text": [
      "C:\\Users\\Rey\\AppData\\Roaming\\Python\\Python36\\site-packages\\numpy\\core\\_asarray.py:83: ComplexWarning: Casting complex values to real discards the imaginary part\n",
      "  return array(a, dtype, copy=False, order=order)\n"
     ]
    },
    {
     "data": {
      "text/plain": [
       "[<matplotlib.lines.Line2D at 0x206c48a82b0>]"
      ]
     },
     "execution_count": 23,
     "metadata": {},
     "output_type": "execute_result"
    },
    {
     "data": {
      "image/png": "[encoded data removed]",
      "text/plain": [
       "<Figure size 432x288 with 1 Axes>"
      ]
     },
     "metadata": {
      "needs_background": "light"
     },
     "output_type": "display_data"
    }
   ],
   "source": [
    "J1_t, J2_t = sf.evolveSys_Js(zs[0], phis[0], 0, 0, times, S1, s1, S2, s2, L, V, N)\n",
    "plt.plot(times,J1_t[2])\n",
    "J1_t, J2_t = sf.evolveSys_Js(zs[1], phis[1], 0, 0, times, S1, s1, S2, s2, L, V, N)\n",
    "plt.plot(times,J1_t[2])\n",
    "J1_t, J2_t = sf.evolveSys_Js(zs[2], phis[2], 0, 0, times, S1, s1, S2, s2, L, V, N)\n",
    "plt.plot(times,J1_t[2])\n",
    "J1_t, J2_t = sf.evolveSys_Js(zs[3], phis[3], 0, 0, times, S1, s1, S2, s2, L, V, N)\n",
    "plt.plot(times,J1_t[2])"
   ]
  },
  {
   "cell_type": "code",
   "execution_count": 24,
   "metadata": {},
   "outputs": [
    {
     "name": "stderr",
     "output_type": "stream",
     "text": [
      "C:\\Users\\Rey\\AppData\\Roaming\\Python\\Python36\\site-packages\\numpy\\core\\_asarray.py:83: ComplexWarning: Casting complex values to real discards the imaginary part\n",
      "  return array(a, dtype, copy=False, order=order)\n"
     ]
    },
    {
     "data": {
      "text/plain": [
       "[<matplotlib.lines.Line2D at 0x206c4560e48>]"
      ]
     },
     "execution_count": 24,
     "metadata": {},
     "output_type": "execute_result"
    },
    {
     "data": {
      "image/png": "[encoded data removed]",
      "text/plain": [
       "<Figure size 432x288 with 1 Axes>"
      ]
     },
     "metadata": {
      "needs_background": "light"
     },
     "output_type": "display_data"
    }
   ],
   "source": [
    "plt.plot(times,J1_t[2])"
   ]
  },
  {
   "cell_type": "code",
   "execution_count": 25,
   "metadata": {},
   "outputs": [],
   "source": [
    "z1, phi1, a, b = sf.makeZphi_J(J1_t, J2_t)"
   ]
  },
  {
   "cell_type": "code",
   "execution_count": 26,
   "metadata": {},
   "outputs": [
    {
     "name": "stderr",
     "output_type": "stream",
     "text": [
      "C:\\Users\\Rey\\AppData\\Roaming\\Python\\Python36\\site-packages\\numpy\\core\\_asarray.py:83: ComplexWarning: Casting complex values to real discards the imaginary part\n",
      "  return array(a, dtype, copy=False, order=order)\n"
     ]
    },
    {
     "data": {
      "text/plain": [
       "[<matplotlib.lines.Line2D at 0x206c45049b0>]"
      ]
     },
     "execution_count": 26,
     "metadata": {},
     "output_type": "execute_result"
    },
    {
     "data": {
      "image/png": "[encoded data removed]",
      "text/plain": [
       "<Figure size 432x288 with 1 Axes>"
      ]
     },
     "metadata": {
      "needs_background": "light"
     },
     "output_type": "display_data"
    }
   ],
   "source": [
    "# get Js, convert to z/phi to see if correct\n",
    "# why all weird??\n",
    "plt.plot(times,z1)"
   ]
  },
  {
   "cell_type": "code",
   "execution_count": null,
   "metadata": {},
   "outputs": [],
   "source": []
  },
  {
   "cell_type": "code",
   "execution_count": 27,
   "metadata": {},
   "outputs": [
    {
     "name": "stdout",
     "output_type": "stream",
     "text": [
      "Hermiticity check passed!\n",
      "Hermiticity check passed!\n",
      "Hermiticity check passed!\n",
      "Hermiticity check passed!\n",
      "Hermiticity check passed!\n",
      "Hermiticity check passed!\n"
     ]
    },
    {
     "name": "stderr",
     "output_type": "stream",
     "text": [
      "C:\\Users\\Rey\\Desktop\\code\\spinFuncts.py:49: UserWarning: Test for symmetries not implemented for <class 'quspin.basis.tensor.tensor_basis'>, to turn off this warning set check_symm=False in hamiltonian\n",
      "  H1 = hamiltonian(static1, [], dtype=np.complex128, basis=basis) #to make operators for 1\n",
      "C:\\Users\\Rey\\Desktop\\code\\spinFuncts.py:49: UserWarning: Test for particle conservation not implemented for <class 'quspin.basis.tensor.tensor_basis'>, to turn off this warning set check_pcon=False in hamiltonian\n",
      "  H1 = hamiltonian(static1, [], dtype=np.complex128, basis=basis) #to make operators for 1\n",
      "C:\\Users\\Rey\\Desktop\\code\\spinFuncts.py:50: UserWarning: Test for symmetries not implemented for <class 'quspin.basis.tensor.tensor_basis'>, to turn off this warning set check_symm=False in hamiltonian\n",
      "  H2 = hamiltonian(static2, [], dtype=np.complex128, basis=basis) #to make operators for 2\n",
      "C:\\Users\\Rey\\Desktop\\code\\spinFuncts.py:50: UserWarning: Test for particle conservation not implemented for <class 'quspin.basis.tensor.tensor_basis'>, to turn off this warning set check_pcon=False in hamiltonian\n",
      "  H2 = hamiltonian(static2, [], dtype=np.complex128, basis=basis) #to make operators for 2\n"
     ]
    },
    {
     "name": "stdout",
     "output_type": "stream",
     "text": [
      "Hermiticity check passed!\n",
      "Hermiticity check passed!\n",
      "Hermiticity check passed!\n",
      "Hermiticity check passed!\n",
      "Hermiticity check passed!\n",
      "Hermiticity check passed!\n",
      "(0.8068902277711584+0j)\n",
      "Hermiticity check passed!\n",
      "Hermiticity check passed!\n",
      "Hermiticity check passed!\n",
      "Hermiticity check passed!\n",
      "Hermiticity check passed!\n",
      "Hermiticity check passed!\n",
      "Hermiticity check passed!\n",
      "Hermiticity check passed!\n",
      "Hermiticity check passed!\n",
      "Hermiticity check passed!\n",
      "Hermiticity check passed!\n",
      "Hermiticity check passed!\n",
      "(0.8073450932229497+2.2513699516051468e-17j)\n",
      "Hermiticity check passed!\n",
      "Hermiticity check passed!\n",
      "Hermiticity check passed!\n",
      "Hermiticity check passed!\n",
      "Hermiticity check passed!\n",
      "Hermiticity check passed!\n",
      "Hermiticity check passed!\n",
      "Hermiticity check passed!\n",
      "Hermiticity check passed!\n",
      "Hermiticity check passed!\n",
      "Hermiticity check passed!\n",
      "Hermiticity check passed!\n",
      "(0.8086656884072143-2.992080972453073e-17j)\n",
      "Hermiticity check passed!\n",
      "Hermiticity check passed!\n",
      "Hermiticity check passed!\n",
      "Hermiticity check passed!\n",
      "Hermiticity check passed!\n",
      "Hermiticity check passed!\n",
      "Hermiticity check passed!\n",
      "Hermiticity check passed!\n",
      "Hermiticity check passed!\n",
      "Hermiticity check passed!\n",
      "Hermiticity check passed!\n",
      "Hermiticity check passed!\n",
      "(0.8106783336400608-1.2123908386866387e-17j)\n",
      "Hermiticity check passed!\n",
      "Hermiticity check passed!\n",
      "Hermiticity check passed!\n",
      "Hermiticity check passed!\n",
      "Hermiticity check passed!\n",
      "Hermiticity check passed!\n",
      "Hermiticity check passed!\n",
      "Hermiticity check passed!\n",
      "Hermiticity check passed!\n",
      "Hermiticity check passed!\n",
      "Hermiticity check passed!\n",
      "Hermiticity check passed!\n",
      "(0.8129955782650646+1.0867989949602955e-17j)\n",
      "Hermiticity check passed!\n",
      "Hermiticity check passed!\n",
      "Hermiticity check passed!\n",
      "Hermiticity check passed!\n",
      "Hermiticity check passed!\n",
      "Hermiticity check passed!\n",
      "Hermiticity check passed!\n",
      "Hermiticity check passed!\n",
      "Hermiticity check passed!\n",
      "Hermiticity check passed!\n",
      "Hermiticity check passed!\n",
      "Hermiticity check passed!\n",
      "(0.8134179487432632-3.075233123294772e-18j)\n"
     ]
    }
   ],
   "source": [
    "for i in range(len(phis)):\n",
    "    H2, vect0 = sf.H2_vects(zs[i], phis[i], 0, 0, S1, s1, S2, s2, L, V, N)\n",
    "    print (H2.expt_value(vect0)/s1)"
   ]
  },
  {
   "cell_type": "code",
   "execution_count": 28,
   "metadata": {},
   "outputs": [
    {
     "name": "stdout",
     "output_type": "stream",
     "text": [
      "0.7999999999999661\n"
     ]
    }
   ],
   "source": [
    "print(sf.energy(zs[5], phis[5], L[0]))"
   ]
  },
  {
   "cell_type": "code",
   "execution_count": 16,
   "metadata": {},
   "outputs": [
    {
     "name": "stdout",
     "output_type": "stream",
     "text": [
      "[0.75908736982688, 0.4146913201453987, 0.5018141827064835]\n",
      "0.5\n",
      "[0.5, 0.0]\n"
     ]
    }
   ],
   "source": [
    "h1, h2 = sf.takeZphi(zs[1], phis[1], 0, 0)\n",
    "print(h1)\n",
    "print(np.arctan2(h1[1], h1[0]))\n",
    "\n",
    "zi, phii = sf.makeZphi_h (h1, h2)\n",
    "print(phii)"
   ]
  }
 ],
 "metadata": {
  "kernelspec": {
   "display_name": "Python 3",
   "language": "python",
   "name": "python3"
  },
  "language_info": {
   "codemirror_mode": {
    "name": "ipython",
    "version": 3
   },
   "file_extension": ".py",
   "mimetype": "text/x-python",
   "name": "python",
   "nbconvert_exporter": "python",
   "pygments_lexer": "ipython3",
   "version": "3.6.12"
  }
 },
 "nbformat": 4,
 "nbformat_minor": 4
}
